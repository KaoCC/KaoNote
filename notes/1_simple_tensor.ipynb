{
 "cells": [
  {
   "attachments": {},
   "cell_type": "markdown",
   "metadata": {},
   "source": [
    "### How to generate a tensor or an array with interleaving elements from different sources\n",
    "\n",
    "For example, given a a list of elements $[x_1, x_2, x_3, ... , x_n]$ , we want to generate a tensor $[sin(x_1), cos(x_1), sin(x_2), cos(x2), sin(x_3), cos(x_3), ... , sin(x_n), cos(x_n)]$ without going through the original list iteratively. \n",
    "\n",
    "We can achieve this goal easily with the following solution."
   ]
  },
  {
   "cell_type": "code",
   "execution_count": 1,
   "metadata": {},
   "outputs": [],
   "source": [
    "import torch"
   ]
  },
  {
   "attachments": {},
   "cell_type": "markdown",
   "metadata": {},
   "source": [
    "Create the original source sequence:"
   ]
  },
  {
   "cell_type": "code",
   "execution_count": 2,
   "metadata": {},
   "outputs": [
    {
     "name": "stdout",
     "output_type": "stream",
     "text": [
      "tensor([ 0.0000,  1.5708,  3.1416,  4.7124,  6.2832,  7.8540,  9.4248, 10.9956,\n",
      "        12.5664, 14.1372])\n",
      "torch.Size([10])\n"
     ]
    }
   ],
   "source": [
    "x = torch.arange(10) * 0.5 * torch.pi\n",
    "print(x)\n",
    "print(x.shape)"
   ]
  },
  {
   "attachments": {},
   "cell_type": "markdown",
   "metadata": {},
   "source": [
    "Then we unsqueeze it by adding an extra dimension at the last dimension."
   ]
  },
  {
   "cell_type": "code",
   "execution_count": 3,
   "metadata": {},
   "outputs": [
    {
     "name": "stdout",
     "output_type": "stream",
     "text": [
      "tensor([[ 0.0000],\n",
      "        [ 1.5708],\n",
      "        [ 3.1416],\n",
      "        [ 4.7124],\n",
      "        [ 6.2832],\n",
      "        [ 7.8540],\n",
      "        [ 9.4248],\n",
      "        [10.9956],\n",
      "        [12.5664],\n",
      "        [14.1372]])\n",
      "torch.Size([10, 1])\n"
     ]
    }
   ],
   "source": [
    "x = torch.unsqueeze(x, dim=-1)\n",
    "print(x)\n",
    "print(x.shape)"
   ]
  },
  {
   "attachments": {},
   "cell_type": "markdown",
   "metadata": {},
   "source": [
    "Then we concatenates the sequences of tensors at the last dimension. "
   ]
  },
  {
   "cell_type": "code",
   "execution_count": 4,
   "metadata": {},
   "outputs": [
    {
     "name": "stdout",
     "output_type": "stream",
     "text": [
      "tensor([[ 0.0000e+00,  1.0000e+00],\n",
      "        [ 1.0000e+00, -4.3711e-08],\n",
      "        [-8.7423e-08, -1.0000e+00],\n",
      "        [-1.0000e+00,  1.1925e-08],\n",
      "        [ 1.7485e-07,  1.0000e+00],\n",
      "        [ 1.0000e+00, -3.3777e-07],\n",
      "        [-2.3850e-08, -1.0000e+00],\n",
      "        [-1.0000e+00,  6.6361e-07],\n",
      "        [ 3.4969e-07,  1.0000e+00],\n",
      "        [ 1.0000e+00, -3.5775e-08]])\n",
      "torch.Size([10, 2])\n"
     ]
    }
   ],
   "source": [
    "x = torch.cat((torch.sin(x), torch.cos(x)), dim=-1)\n",
    "print(x)\n",
    "print(x.shape)"
   ]
  },
  {
   "attachments": {},
   "cell_type": "markdown",
   "metadata": {},
   "source": [
    "After that, we reshape the tensor to the desired shape by flattening the last two dimensions."
   ]
  },
  {
   "cell_type": "code",
   "execution_count": 5,
   "metadata": {},
   "outputs": [
    {
     "name": "stdout",
     "output_type": "stream",
     "text": [
      "tensor([ 0.0000e+00,  1.0000e+00,  1.0000e+00, -4.3711e-08, -8.7423e-08,\n",
      "        -1.0000e+00, -1.0000e+00,  1.1925e-08,  1.7485e-07,  1.0000e+00,\n",
      "         1.0000e+00, -3.3777e-07, -2.3850e-08, -1.0000e+00, -1.0000e+00,\n",
      "         6.6361e-07,  3.4969e-07,  1.0000e+00,  1.0000e+00, -3.5775e-08])\n",
      "torch.Size([20])\n"
     ]
    }
   ],
   "source": [
    "x = torch.flatten(x, start_dim=-2, end_dim=-1)\n",
    "print(x)\n",
    "print(x.shape)"
   ]
  },
  {
   "attachments": {},
   "cell_type": "markdown",
   "metadata": {},
   "source": [
    "The same method can be applied to NumPy with some modifications."
   ]
  },
  {
   "cell_type": "code",
   "execution_count": 6,
   "metadata": {},
   "outputs": [],
   "source": [
    "import numpy as np"
   ]
  },
  {
   "cell_type": "code",
   "execution_count": 7,
   "metadata": {},
   "outputs": [
    {
     "name": "stdout",
     "output_type": "stream",
     "text": [
      "[ 0.          1.57079633  3.14159265  4.71238898  6.28318531  7.85398163\n",
      "  9.42477796 10.99557429 12.56637061 14.13716694]\n",
      "(10,)\n"
     ]
    }
   ],
   "source": [
    "y = np.arange(10) * 0.5 * np.pi\n",
    "print(y)\n",
    "print(y.shape)"
   ]
  },
  {
   "attachments": {},
   "cell_type": "markdown",
   "metadata": {},
   "source": [
    "However, sicne NumPy does not have `unsqeeze`, we have to use `expand_dims` instead."
   ]
  },
  {
   "cell_type": "code",
   "execution_count": 8,
   "metadata": {},
   "outputs": [
    {
     "name": "stdout",
     "output_type": "stream",
     "text": [
      "[[ 0.        ]\n",
      " [ 1.57079633]\n",
      " [ 3.14159265]\n",
      " [ 4.71238898]\n",
      " [ 6.28318531]\n",
      " [ 7.85398163]\n",
      " [ 9.42477796]\n",
      " [10.99557429]\n",
      " [12.56637061]\n",
      " [14.13716694]]\n",
      "(10, 1)\n"
     ]
    }
   ],
   "source": [
    "y = np.expand_dims(y, axis=-1)\n",
    "print(y)\n",
    "print(y.shape)"
   ]
  },
  {
   "attachments": {},
   "cell_type": "markdown",
   "metadata": {},
   "source": [
    "Concatenation is similar."
   ]
  },
  {
   "cell_type": "code",
   "execution_count": 9,
   "metadata": {},
   "outputs": [
    {
     "name": "stdout",
     "output_type": "stream",
     "text": [
      "[[ 0.0000000e+00  1.0000000e+00]\n",
      " [ 1.0000000e+00  6.1232340e-17]\n",
      " [ 1.2246468e-16 -1.0000000e+00]\n",
      " [-1.0000000e+00 -1.8369702e-16]\n",
      " [-2.4492936e-16  1.0000000e+00]\n",
      " [ 1.0000000e+00  3.0616170e-16]\n",
      " [ 3.6739404e-16 -1.0000000e+00]\n",
      " [-1.0000000e+00 -4.2862638e-16]\n",
      " [-4.8985872e-16  1.0000000e+00]\n",
      " [ 1.0000000e+00  5.5109106e-16]]\n",
      "(10, 2)\n"
     ]
    }
   ],
   "source": [
    "y = np.concatenate((np.sin(y), np.cos(y)), axis=-1)\n",
    "print(y)\n",
    "print(y.shape)"
   ]
  },
  {
   "attachments": {},
   "cell_type": "markdown",
   "metadata": {},
   "source": [
    "Finally, in NumPy we can utilize `reshape`.  Using `-1` as a parameter to reshape tells NumPy to infer the dimension there."
   ]
  },
  {
   "cell_type": "code",
   "execution_count": 10,
   "metadata": {},
   "outputs": [
    {
     "name": "stdout",
     "output_type": "stream",
     "text": [
      "[ 0.0000000e+00  1.0000000e+00  1.0000000e+00  6.1232340e-17\n",
      "  1.2246468e-16 -1.0000000e+00 -1.0000000e+00 -1.8369702e-16\n",
      " -2.4492936e-16  1.0000000e+00  1.0000000e+00  3.0616170e-16\n",
      "  3.6739404e-16 -1.0000000e+00 -1.0000000e+00 -4.2862638e-16\n",
      " -4.8985872e-16  1.0000000e+00  1.0000000e+00  5.5109106e-16]\n",
      "(20,)\n"
     ]
    }
   ],
   "source": [
    "y = np.reshape(y, (*y.shape[:-2] ,-1))\n",
    "print(y)\n",
    "print(y.shape)"
   ]
  },
  {
   "attachments": {},
   "cell_type": "markdown",
   "metadata": {},
   "source": [
    "They can both support N dimensional sequences as well."
   ]
  },
  {
   "cell_type": "code",
   "execution_count": 11,
   "metadata": {},
   "outputs": [
    {
     "name": "stdout",
     "output_type": "stream",
     "text": [
      "tensor([[[[ 0.0000,  1.5708,  3.1416,  4.7124,  6.2832]],\n",
      "\n",
      "         [[ 7.8540,  9.4248, 10.9956, 12.5664, 14.1372]]]])\n",
      "torch.Size([1, 2, 1, 5])\n"
     ]
    }
   ],
   "source": [
    "a = torch.arange(10).reshape(1 , 2 , 1, 5) * 0.5 * torch.pi\n",
    "print(a)\n",
    "print(a.shape)"
   ]
  },
  {
   "cell_type": "code",
   "execution_count": 12,
   "metadata": {},
   "outputs": [
    {
     "name": "stdout",
     "output_type": "stream",
     "text": [
      "tensor([[[[ 0.0000e+00,  1.0000e+00,  1.0000e+00, -4.3711e-08, -8.7423e-08,\n",
      "           -1.0000e+00, -1.0000e+00,  1.1925e-08,  1.7485e-07,  1.0000e+00]],\n",
      "\n",
      "         [[ 1.0000e+00, -3.3777e-07, -2.3850e-08, -1.0000e+00, -1.0000e+00,\n",
      "            6.6361e-07,  3.4969e-07,  1.0000e+00,  1.0000e+00, -3.5775e-08]]]])\n",
      "torch.Size([1, 2, 1, 10])\n"
     ]
    }
   ],
   "source": [
    "a = torch.unsqueeze(a, dim=-1)\n",
    "a = torch.cat((torch.sin(a), torch.cos(a)), -1)\n",
    "a = torch.flatten(a, -2, -1)\n",
    "print(a)\n",
    "print(a.shape)"
   ]
  },
  {
   "cell_type": "code",
   "execution_count": 13,
   "metadata": {},
   "outputs": [
    {
     "name": "stdout",
     "output_type": "stream",
     "text": [
      "[[[[ 0.          1.57079633  3.14159265  4.71238898  6.28318531]]\n",
      "\n",
      "  [[ 7.85398163  9.42477796 10.99557429 12.56637061 14.13716694]]]]\n",
      "(1, 2, 1, 5)\n"
     ]
    }
   ],
   "source": [
    "b = np.arange(10).reshape(1, 2 , 1, 5) * 0.5 * np.pi\n",
    "print(b)\n",
    "print(b.shape)"
   ]
  },
  {
   "cell_type": "code",
   "execution_count": 14,
   "metadata": {},
   "outputs": [
    {
     "name": "stdout",
     "output_type": "stream",
     "text": [
      "[[[[ 0.0000000e+00  1.0000000e+00  1.0000000e+00  6.1232340e-17\n",
      "     1.2246468e-16 -1.0000000e+00 -1.0000000e+00 -1.8369702e-16\n",
      "    -2.4492936e-16  1.0000000e+00]]\n",
      "\n",
      "  [[ 1.0000000e+00  3.0616170e-16  3.6739404e-16 -1.0000000e+00\n",
      "    -1.0000000e+00 -4.2862638e-16 -4.8985872e-16  1.0000000e+00\n",
      "     1.0000000e+00  5.5109106e-16]]]]\n",
      "(1, 2, 1, 10)\n"
     ]
    }
   ],
   "source": [
    "b = np.expand_dims(b, -1)\n",
    "b = np.concatenate((np.sin(b), np.cos(b)), axis=-1)\n",
    "b = np.reshape(b, (*b.shape[:-2] ,-1))\n",
    "print(b)\n",
    "print(b.shape)"
   ]
  }
 ],
 "metadata": {
  "kernelspec": {
   "display_name": "Python 3",
   "language": "python",
   "name": "python3"
  },
  "language_info": {
   "codemirror_mode": {
    "name": "ipython",
    "version": 3
   },
   "file_extension": ".py",
   "mimetype": "text/x-python",
   "name": "python",
   "nbconvert_exporter": "python",
   "pygments_lexer": "ipython3",
   "version": "3.10.0"
  },
  "orig_nbformat": 4
 },
 "nbformat": 4,
 "nbformat_minor": 2
}
